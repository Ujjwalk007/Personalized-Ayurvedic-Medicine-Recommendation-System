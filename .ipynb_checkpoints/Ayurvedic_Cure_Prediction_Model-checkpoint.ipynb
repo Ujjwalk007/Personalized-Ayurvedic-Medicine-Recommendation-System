{
 "cells": [
  {
   "cell_type": "markdown",
   "id": "a4c8226f",
   "metadata": {},
   "source": [
    "# Load/Import DataBase"
   ]
  },
  {
   "cell_type": "code",
   "execution_count": 3,
   "id": "35e11c57",
   "metadata": {},
   "outputs": [
    {
     "data": {
      "text/html": [
       "<div>\n",
       "<style scoped>\n",
       "    .dataframe tbody tr th:only-of-type {\n",
       "        vertical-align: middle;\n",
       "    }\n",
       "\n",
       "    .dataframe tbody tr th {\n",
       "        vertical-align: top;\n",
       "    }\n",
       "\n",
       "    .dataframe thead th {\n",
       "        text-align: right;\n",
       "    }\n",
       "</style>\n",
       "<table border=\"1\" class=\"dataframe\">\n",
       "  <thead>\n",
       "    <tr style=\"text-align: right;\">\n",
       "      <th></th>\n",
       "      <th>Disease</th>\n",
       "      <th>symptoms</th>\n",
       "      <th>gender</th>\n",
       "      <th>diabetic</th>\n",
       "      <th>age</th>\n",
       "      <th>prakruti</th>\n",
       "      <th>remedy type</th>\n",
       "      <th>remedies</th>\n",
       "    </tr>\n",
       "  </thead>\n",
       "  <tbody>\n",
       "    <tr>\n",
       "      <th>0</th>\n",
       "      <td>psoriasis</td>\n",
       "      <td>red to silver skin patches, skin rashes, plaqu...</td>\n",
       "      <td>M</td>\n",
       "      <td>Yes</td>\n",
       "      <td>Child</td>\n",
       "      <td>Kapha</td>\n",
       "      <td>individually</td>\n",
       "      <td>neem,turmeric,guggul,jasmine flower</td>\n",
       "    </tr>\n",
       "    <tr>\n",
       "      <th>1</th>\n",
       "      <td>psoriasis</td>\n",
       "      <td>red to silver skin patches, skin rashes, plaqu...</td>\n",
       "      <td>M</td>\n",
       "      <td>Yes</td>\n",
       "      <td>Child</td>\n",
       "      <td>Pitta</td>\n",
       "      <td>individually</td>\n",
       "      <td>neem,turmeric,guggul,jasmine flower</td>\n",
       "    </tr>\n",
       "    <tr>\n",
       "      <th>2</th>\n",
       "      <td>psoriasis</td>\n",
       "      <td>red to silver skin patches, skin rashes, plaqu...</td>\n",
       "      <td>M</td>\n",
       "      <td>Yes</td>\n",
       "      <td>Child</td>\n",
       "      <td>Vata</td>\n",
       "      <td>individually</td>\n",
       "      <td>neem,turmeric,guggul,jasmine flower</td>\n",
       "    </tr>\n",
       "    <tr>\n",
       "      <th>3</th>\n",
       "      <td>psoriasis</td>\n",
       "      <td>red to silver skin patches, skin rashes, plaqu...</td>\n",
       "      <td>M</td>\n",
       "      <td>Yes</td>\n",
       "      <td>Adult</td>\n",
       "      <td>Kapha</td>\n",
       "      <td>individually</td>\n",
       "      <td>neem,turmeric,guggul,jasmine flower</td>\n",
       "    </tr>\n",
       "    <tr>\n",
       "      <th>4</th>\n",
       "      <td>psoriasis</td>\n",
       "      <td>red to silver skin patches, skin rashes, plaqu...</td>\n",
       "      <td>M</td>\n",
       "      <td>Yes</td>\n",
       "      <td>Adult</td>\n",
       "      <td>Pitta</td>\n",
       "      <td>individually</td>\n",
       "      <td>neem,turmeric,guggul,jasmine flower</td>\n",
       "    </tr>\n",
       "  </tbody>\n",
       "</table>\n",
       "</div>"
      ],
      "text/plain": [
       "     Disease                                           symptoms gender   \n",
       "0  psoriasis  red to silver skin patches, skin rashes, plaqu...      M  \\\n",
       "1  psoriasis  red to silver skin patches, skin rashes, plaqu...      M   \n",
       "2  psoriasis  red to silver skin patches, skin rashes, plaqu...      M   \n",
       "3  psoriasis  red to silver skin patches, skin rashes, plaqu...      M   \n",
       "4  psoriasis  red to silver skin patches, skin rashes, plaqu...      M   \n",
       "\n",
       "  diabetic    age prakruti   remedy type                             remedies  \n",
       "0      Yes  Child    Kapha  individually  neem,turmeric,guggul,jasmine flower  \n",
       "1      Yes  Child    Pitta  individually  neem,turmeric,guggul,jasmine flower  \n",
       "2      Yes  Child     Vata  individually  neem,turmeric,guggul,jasmine flower  \n",
       "3      Yes  Adult    Kapha  individually  neem,turmeric,guggul,jasmine flower  \n",
       "4      Yes  Adult    Pitta  individually  neem,turmeric,guggul,jasmine flower  "
      ]
     },
     "execution_count": 3,
     "metadata": {},
     "output_type": "execute_result"
    }
   ],
   "source": [
    "import pandas as pd\n",
    "\n",
    "AyuData = pd.read_csv(\"/home/Emperor/UKs Machine/DRIVE FLX/SIH/Personalized-Ayurvedic-Medicine-Recommendation-System/DataBase/AyurvedaData.csv\")\n",
    "AyuData.head()"
   ]
  },
  {
   "cell_type": "markdown",
   "id": "e7bb1687",
   "metadata": {},
   "source": [
    "# Assigning Inputs and Targets"
   ]
  },
  {
   "cell_type": "code",
   "execution_count": 5,
   "id": "e4e52acc",
   "metadata": {},
   "outputs": [
    {
     "data": {
      "text/html": [
       "<div>\n",
       "<style scoped>\n",
       "    .dataframe tbody tr th:only-of-type {\n",
       "        vertical-align: middle;\n",
       "    }\n",
       "\n",
       "    .dataframe tbody tr th {\n",
       "        vertical-align: top;\n",
       "    }\n",
       "\n",
       "    .dataframe thead th {\n",
       "        text-align: right;\n",
       "    }\n",
       "</style>\n",
       "<table border=\"1\" class=\"dataframe\">\n",
       "  <thead>\n",
       "    <tr style=\"text-align: right;\">\n",
       "      <th></th>\n",
       "      <th>Disease</th>\n",
       "      <th>gender</th>\n",
       "      <th>diabetic</th>\n",
       "      <th>age</th>\n",
       "      <th>prakruti</th>\n",
       "      <th>remedies</th>\n",
       "    </tr>\n",
       "  </thead>\n",
       "  <tbody>\n",
       "    <tr>\n",
       "      <th>0</th>\n",
       "      <td>psoriasis</td>\n",
       "      <td>M</td>\n",
       "      <td>Yes</td>\n",
       "      <td>Child</td>\n",
       "      <td>Kapha</td>\n",
       "      <td>neem,turmeric,guggul,jasmine flower</td>\n",
       "    </tr>\n",
       "    <tr>\n",
       "      <th>1</th>\n",
       "      <td>psoriasis</td>\n",
       "      <td>M</td>\n",
       "      <td>Yes</td>\n",
       "      <td>Child</td>\n",
       "      <td>Pitta</td>\n",
       "      <td>neem,turmeric,guggul,jasmine flower</td>\n",
       "    </tr>\n",
       "    <tr>\n",
       "      <th>2</th>\n",
       "      <td>psoriasis</td>\n",
       "      <td>M</td>\n",
       "      <td>Yes</td>\n",
       "      <td>Child</td>\n",
       "      <td>Vata</td>\n",
       "      <td>neem,turmeric,guggul,jasmine flower</td>\n",
       "    </tr>\n",
       "    <tr>\n",
       "      <th>3</th>\n",
       "      <td>psoriasis</td>\n",
       "      <td>M</td>\n",
       "      <td>Yes</td>\n",
       "      <td>Adult</td>\n",
       "      <td>Kapha</td>\n",
       "      <td>neem,turmeric,guggul,jasmine flower</td>\n",
       "    </tr>\n",
       "    <tr>\n",
       "      <th>4</th>\n",
       "      <td>psoriasis</td>\n",
       "      <td>M</td>\n",
       "      <td>Yes</td>\n",
       "      <td>Adult</td>\n",
       "      <td>Pitta</td>\n",
       "      <td>neem,turmeric,guggul,jasmine flower</td>\n",
       "    </tr>\n",
       "  </tbody>\n",
       "</table>\n",
       "</div>"
      ],
      "text/plain": [
       "     Disease gender diabetic    age prakruti   \n",
       "0  psoriasis      M      Yes  Child    Kapha  \\\n",
       "1  psoriasis      M      Yes  Child    Pitta   \n",
       "2  psoriasis      M      Yes  Child     Vata   \n",
       "3  psoriasis      M      Yes  Adult    Kapha   \n",
       "4  psoriasis      M      Yes  Adult    Pitta   \n",
       "\n",
       "                              remedies  \n",
       "0  neem,turmeric,guggul,jasmine flower  \n",
       "1  neem,turmeric,guggul,jasmine flower  \n",
       "2  neem,turmeric,guggul,jasmine flower  \n",
       "3  neem,turmeric,guggul,jasmine flower  \n",
       "4  neem,turmeric,guggul,jasmine flower  "
      ]
     },
     "execution_count": 5,
     "metadata": {},
     "output_type": "execute_result"
    }
   ],
   "source": [
    "inputs = AyuData.drop(['symptoms','remedy type'],axis=1)\n",
    "inputs.head()"
   ]
  },
  {
   "cell_type": "code",
   "execution_count": 7,
   "id": "71d808ca",
   "metadata": {},
   "outputs": [
    {
     "data": {
      "text/plain": [
       "0    neem,turmeric,guggul,jasmine flower\n",
       "1    neem,turmeric,guggul,jasmine flower\n",
       "2    neem,turmeric,guggul,jasmine flower\n",
       "3    neem,turmeric,guggul,jasmine flower\n",
       "4    neem,turmeric,guggul,jasmine flower\n",
       "Name: remedies, dtype: object"
      ]
     },
     "execution_count": 7,
     "metadata": {},
     "output_type": "execute_result"
    }
   ],
   "source": [
    "Target_SIH = AyuData['remedies']\n",
    "Target_SIH.head()"
   ]
  },
  {
   "cell_type": "markdown",
   "id": "d883e448",
   "metadata": {},
   "source": [
    "# Label Encoding"
   ]
  },
  {
   "cell_type": "code",
   "execution_count": 10,
   "id": "69ee326f",
   "metadata": {},
   "outputs": [],
   "source": [
    "from sklearn.preprocessing import LabelEncoder\n",
    "\n",
    "Dis_coder = LabelEncoder()\n",
    "Dis_coder.fit( AyuData['Disease'] )\n",
    "AyuData['Name'] = Dis_coder.transform(AyuData['Disease'])"
   ]
  },
  {
   "cell_type": "code",
   "execution_count": 11,
   "id": "7f9c1843",
   "metadata": {},
   "outputs": [
    {
     "ename": "ValueError",
     "evalue": "y contains previously unseen labels: 'M'",
     "output_type": "error",
     "traceback": [
      "\u001b[0;31m---------------------------------------------------------------------------\u001b[0m",
      "\u001b[0;31mKeyError\u001b[0m                                  Traceback (most recent call last)",
      "File \u001b[0;32m~/.local/lib/python3.11/site-packages/sklearn/utils/_encode.py:225\u001b[0m, in \u001b[0;36m_encode\u001b[0;34m(values, uniques, check_unknown)\u001b[0m\n\u001b[1;32m    224\u001b[0m \u001b[38;5;28;01mtry\u001b[39;00m:\n\u001b[0;32m--> 225\u001b[0m     \u001b[38;5;28;01mreturn\u001b[39;00m \u001b[43m_map_to_integer\u001b[49m\u001b[43m(\u001b[49m\u001b[43mvalues\u001b[49m\u001b[43m,\u001b[49m\u001b[43m \u001b[49m\u001b[43muniques\u001b[49m\u001b[43m)\u001b[49m\n\u001b[1;32m    226\u001b[0m \u001b[38;5;28;01mexcept\u001b[39;00m \u001b[38;5;167;01mKeyError\u001b[39;00m \u001b[38;5;28;01mas\u001b[39;00m e:\n",
      "File \u001b[0;32m~/.local/lib/python3.11/site-packages/sklearn/utils/_encode.py:165\u001b[0m, in \u001b[0;36m_map_to_integer\u001b[0;34m(values, uniques)\u001b[0m\n\u001b[1;32m    164\u001b[0m table \u001b[38;5;241m=\u001b[39m _nandict({val: i \u001b[38;5;28;01mfor\u001b[39;00m i, val \u001b[38;5;129;01min\u001b[39;00m \u001b[38;5;28menumerate\u001b[39m(uniques)})\n\u001b[0;32m--> 165\u001b[0m \u001b[38;5;28;01mreturn\u001b[39;00m np\u001b[38;5;241m.\u001b[39marray(\u001b[43m[\u001b[49m\u001b[43mtable\u001b[49m\u001b[43m[\u001b[49m\u001b[43mv\u001b[49m\u001b[43m]\u001b[49m\u001b[43m \u001b[49m\u001b[38;5;28;43;01mfor\u001b[39;49;00m\u001b[43m \u001b[49m\u001b[43mv\u001b[49m\u001b[43m \u001b[49m\u001b[38;5;129;43;01min\u001b[39;49;00m\u001b[43m \u001b[49m\u001b[43mvalues\u001b[49m\u001b[43m]\u001b[49m)\n",
      "File \u001b[0;32m~/.local/lib/python3.11/site-packages/sklearn/utils/_encode.py:165\u001b[0m, in \u001b[0;36m<listcomp>\u001b[0;34m(.0)\u001b[0m\n\u001b[1;32m    164\u001b[0m table \u001b[38;5;241m=\u001b[39m _nandict({val: i \u001b[38;5;28;01mfor\u001b[39;00m i, val \u001b[38;5;129;01min\u001b[39;00m \u001b[38;5;28menumerate\u001b[39m(uniques)})\n\u001b[0;32m--> 165\u001b[0m \u001b[38;5;28;01mreturn\u001b[39;00m np\u001b[38;5;241m.\u001b[39marray([\u001b[43mtable\u001b[49m\u001b[43m[\u001b[49m\u001b[43mv\u001b[49m\u001b[43m]\u001b[49m \u001b[38;5;28;01mfor\u001b[39;00m v \u001b[38;5;129;01min\u001b[39;00m values])\n",
      "File \u001b[0;32m~/.local/lib/python3.11/site-packages/sklearn/utils/_encode.py:159\u001b[0m, in \u001b[0;36m_nandict.__missing__\u001b[0;34m(self, key)\u001b[0m\n\u001b[1;32m    158\u001b[0m     \u001b[38;5;28;01mreturn\u001b[39;00m \u001b[38;5;28mself\u001b[39m\u001b[38;5;241m.\u001b[39mnan_value\n\u001b[0;32m--> 159\u001b[0m \u001b[38;5;28;01mraise\u001b[39;00m \u001b[38;5;167;01mKeyError\u001b[39;00m(key)\n",
      "\u001b[0;31mKeyError\u001b[0m: 'M'",
      "\nDuring handling of the above exception, another exception occurred:\n",
      "\u001b[0;31mValueError\u001b[0m                                Traceback (most recent call last)",
      "Cell \u001b[0;32mIn[11], line 3\u001b[0m\n\u001b[1;32m      1\u001b[0m Gender_coder \u001b[38;5;241m=\u001b[39m LabelEncoder()\n\u001b[1;32m      2\u001b[0m Gender_coder\u001b[38;5;241m.\u001b[39mfit( AyuData[\u001b[38;5;124m'\u001b[39m\u001b[38;5;124mgender\u001b[39m\u001b[38;5;124m'\u001b[39m] )\n\u001b[0;32m----> 3\u001b[0m AyuData[\u001b[38;5;124m'\u001b[39m\u001b[38;5;124mGender\u001b[39m\u001b[38;5;124m'\u001b[39m] \u001b[38;5;241m=\u001b[39m \u001b[43mDis_coder\u001b[49m\u001b[38;5;241;43m.\u001b[39;49m\u001b[43mtransform\u001b[49m\u001b[43m(\u001b[49m\u001b[43mAyuData\u001b[49m\u001b[43m[\u001b[49m\u001b[38;5;124;43m'\u001b[39;49m\u001b[38;5;124;43mgender\u001b[39;49m\u001b[38;5;124;43m'\u001b[39;49m\u001b[43m]\u001b[49m\u001b[43m)\u001b[49m\n",
      "File \u001b[0;32m~/.local/lib/python3.11/site-packages/sklearn/utils/_set_output.py:140\u001b[0m, in \u001b[0;36m_wrap_method_output.<locals>.wrapped\u001b[0;34m(self, X, *args, **kwargs)\u001b[0m\n\u001b[1;32m    138\u001b[0m \u001b[38;5;129m@wraps\u001b[39m(f)\n\u001b[1;32m    139\u001b[0m \u001b[38;5;28;01mdef\u001b[39;00m \u001b[38;5;21mwrapped\u001b[39m(\u001b[38;5;28mself\u001b[39m, X, \u001b[38;5;241m*\u001b[39margs, \u001b[38;5;241m*\u001b[39m\u001b[38;5;241m*\u001b[39mkwargs):\n\u001b[0;32m--> 140\u001b[0m     data_to_wrap \u001b[38;5;241m=\u001b[39m \u001b[43mf\u001b[49m\u001b[43m(\u001b[49m\u001b[38;5;28;43mself\u001b[39;49m\u001b[43m,\u001b[49m\u001b[43m \u001b[49m\u001b[43mX\u001b[49m\u001b[43m,\u001b[49m\u001b[43m \u001b[49m\u001b[38;5;241;43m*\u001b[39;49m\u001b[43margs\u001b[49m\u001b[43m,\u001b[49m\u001b[43m \u001b[49m\u001b[38;5;241;43m*\u001b[39;49m\u001b[38;5;241;43m*\u001b[39;49m\u001b[43mkwargs\u001b[49m\u001b[43m)\u001b[49m\n\u001b[1;32m    141\u001b[0m     \u001b[38;5;28;01mif\u001b[39;00m \u001b[38;5;28misinstance\u001b[39m(data_to_wrap, \u001b[38;5;28mtuple\u001b[39m):\n\u001b[1;32m    142\u001b[0m         \u001b[38;5;66;03m# only wrap the first output for cross decomposition\u001b[39;00m\n\u001b[1;32m    143\u001b[0m         return_tuple \u001b[38;5;241m=\u001b[39m (\n\u001b[1;32m    144\u001b[0m             _wrap_data_with_container(method, data_to_wrap[\u001b[38;5;241m0\u001b[39m], X, \u001b[38;5;28mself\u001b[39m),\n\u001b[1;32m    145\u001b[0m             \u001b[38;5;241m*\u001b[39mdata_to_wrap[\u001b[38;5;241m1\u001b[39m:],\n\u001b[1;32m    146\u001b[0m         )\n",
      "File \u001b[0;32m~/.local/lib/python3.11/site-packages/sklearn/preprocessing/_label.py:137\u001b[0m, in \u001b[0;36mLabelEncoder.transform\u001b[0;34m(self, y)\u001b[0m\n\u001b[1;32m    134\u001b[0m \u001b[38;5;28;01mif\u001b[39;00m _num_samples(y) \u001b[38;5;241m==\u001b[39m \u001b[38;5;241m0\u001b[39m:\n\u001b[1;32m    135\u001b[0m     \u001b[38;5;28;01mreturn\u001b[39;00m np\u001b[38;5;241m.\u001b[39marray([])\n\u001b[0;32m--> 137\u001b[0m \u001b[38;5;28;01mreturn\u001b[39;00m \u001b[43m_encode\u001b[49m\u001b[43m(\u001b[49m\u001b[43my\u001b[49m\u001b[43m,\u001b[49m\u001b[43m \u001b[49m\u001b[43muniques\u001b[49m\u001b[38;5;241;43m=\u001b[39;49m\u001b[38;5;28;43mself\u001b[39;49m\u001b[38;5;241;43m.\u001b[39;49m\u001b[43mclasses_\u001b[49m\u001b[43m)\u001b[49m\n",
      "File \u001b[0;32m~/.local/lib/python3.11/site-packages/sklearn/utils/_encode.py:227\u001b[0m, in \u001b[0;36m_encode\u001b[0;34m(values, uniques, check_unknown)\u001b[0m\n\u001b[1;32m    225\u001b[0m         \u001b[38;5;28;01mreturn\u001b[39;00m _map_to_integer(values, uniques)\n\u001b[1;32m    226\u001b[0m     \u001b[38;5;28;01mexcept\u001b[39;00m \u001b[38;5;167;01mKeyError\u001b[39;00m \u001b[38;5;28;01mas\u001b[39;00m e:\n\u001b[0;32m--> 227\u001b[0m         \u001b[38;5;28;01mraise\u001b[39;00m \u001b[38;5;167;01mValueError\u001b[39;00m(\u001b[38;5;124mf\u001b[39m\u001b[38;5;124m\"\u001b[39m\u001b[38;5;124my contains previously unseen labels: \u001b[39m\u001b[38;5;132;01m{\u001b[39;00m\u001b[38;5;28mstr\u001b[39m(e)\u001b[38;5;132;01m}\u001b[39;00m\u001b[38;5;124m\"\u001b[39m)\n\u001b[1;32m    228\u001b[0m \u001b[38;5;28;01melse\u001b[39;00m:\n\u001b[1;32m    229\u001b[0m     \u001b[38;5;28;01mif\u001b[39;00m check_unknown:\n",
      "\u001b[0;31mValueError\u001b[0m: y contains previously unseen labels: 'M'"
     ]
    }
   ],
   "source": [
    "Gender_coder = LabelEncoder()\n",
    "Gender_coder.fit( AyuData['gender'] )\n",
    "AyuData['Gender'] = Dis_coder.transform(AyuData['gender'])"
   ]
  },
  {
   "cell_type": "code",
   "execution_count": null,
   "id": "cb46b1ba",
   "metadata": {},
   "outputs": [],
   "source": []
  }
 ],
 "metadata": {
  "kernelspec": {
   "display_name": "Python 3 (ipykernel)",
   "language": "python",
   "name": "python3"
  },
  "language_info": {
   "codemirror_mode": {
    "name": "ipython",
    "version": 3
   },
   "file_extension": ".py",
   "mimetype": "text/x-python",
   "name": "python",
   "nbconvert_exporter": "python",
   "pygments_lexer": "ipython3",
   "version": "3.11.5"
  }
 },
 "nbformat": 4,
 "nbformat_minor": 5
}
