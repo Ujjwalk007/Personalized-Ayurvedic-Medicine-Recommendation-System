{
 "cells": [
  {
   "cell_type": "markdown",
   "id": "a4c8226f",
   "metadata": {},
   "source": [
    "# Load/Import DataBase"
   ]
  },
  {
   "cell_type": "code",
   "execution_count": 1,
   "id": "35e11c57",
   "metadata": {},
   "outputs": [
    {
     "data": {
      "text/html": [
       "<div>\n",
       "<style scoped>\n",
       "    .dataframe tbody tr th:only-of-type {\n",
       "        vertical-align: middle;\n",
       "    }\n",
       "\n",
       "    .dataframe tbody tr th {\n",
       "        vertical-align: top;\n",
       "    }\n",
       "\n",
       "    .dataframe thead th {\n",
       "        text-align: right;\n",
       "    }\n",
       "</style>\n",
       "<table border=\"1\" class=\"dataframe\">\n",
       "  <thead>\n",
       "    <tr style=\"text-align: right;\">\n",
       "      <th></th>\n",
       "      <th>Disease</th>\n",
       "      <th>symptoms</th>\n",
       "      <th>gender</th>\n",
       "      <th>diabetic</th>\n",
       "      <th>age</th>\n",
       "      <th>prakruti</th>\n",
       "      <th>remedy type</th>\n",
       "      <th>remedies</th>\n",
       "    </tr>\n",
       "  </thead>\n",
       "  <tbody>\n",
       "    <tr>\n",
       "      <th>0</th>\n",
       "      <td>psoriasis</td>\n",
       "      <td>red to silver skin patches, skin rashes, plaqu...</td>\n",
       "      <td>M</td>\n",
       "      <td>Yes</td>\n",
       "      <td>Child</td>\n",
       "      <td>Kapha</td>\n",
       "      <td>individually</td>\n",
       "      <td>neem,turmeric,guggul,jasmine flower</td>\n",
       "    </tr>\n",
       "    <tr>\n",
       "      <th>1</th>\n",
       "      <td>psoriasis</td>\n",
       "      <td>red to silver skin patches, skin rashes, plaqu...</td>\n",
       "      <td>M</td>\n",
       "      <td>Yes</td>\n",
       "      <td>Child</td>\n",
       "      <td>Pitta</td>\n",
       "      <td>individually</td>\n",
       "      <td>neem,turmeric,guggul,jasmine flower</td>\n",
       "    </tr>\n",
       "    <tr>\n",
       "      <th>2</th>\n",
       "      <td>psoriasis</td>\n",
       "      <td>red to silver skin patches, skin rashes, plaqu...</td>\n",
       "      <td>M</td>\n",
       "      <td>Yes</td>\n",
       "      <td>Child</td>\n",
       "      <td>Vata</td>\n",
       "      <td>individually</td>\n",
       "      <td>neem,turmeric,guggul,jasmine flower</td>\n",
       "    </tr>\n",
       "    <tr>\n",
       "      <th>3</th>\n",
       "      <td>psoriasis</td>\n",
       "      <td>red to silver skin patches, skin rashes, plaqu...</td>\n",
       "      <td>M</td>\n",
       "      <td>Yes</td>\n",
       "      <td>Adult</td>\n",
       "      <td>Kapha</td>\n",
       "      <td>individually</td>\n",
       "      <td>neem,turmeric,guggul,jasmine flower</td>\n",
       "    </tr>\n",
       "    <tr>\n",
       "      <th>4</th>\n",
       "      <td>psoriasis</td>\n",
       "      <td>red to silver skin patches, skin rashes, plaqu...</td>\n",
       "      <td>M</td>\n",
       "      <td>Yes</td>\n",
       "      <td>Adult</td>\n",
       "      <td>Pitta</td>\n",
       "      <td>individually</td>\n",
       "      <td>neem,turmeric,guggul,jasmine flower</td>\n",
       "    </tr>\n",
       "  </tbody>\n",
       "</table>\n",
       "</div>"
      ],
      "text/plain": [
       "     Disease                                           symptoms gender   \n",
       "0  psoriasis  red to silver skin patches, skin rashes, plaqu...      M  \\\n",
       "1  psoriasis  red to silver skin patches, skin rashes, plaqu...      M   \n",
       "2  psoriasis  red to silver skin patches, skin rashes, plaqu...      M   \n",
       "3  psoriasis  red to silver skin patches, skin rashes, plaqu...      M   \n",
       "4  psoriasis  red to silver skin patches, skin rashes, plaqu...      M   \n",
       "\n",
       "  diabetic    age prakruti   remedy type                             remedies  \n",
       "0      Yes  Child    Kapha  individually  neem,turmeric,guggul,jasmine flower  \n",
       "1      Yes  Child    Pitta  individually  neem,turmeric,guggul,jasmine flower  \n",
       "2      Yes  Child     Vata  individually  neem,turmeric,guggul,jasmine flower  \n",
       "3      Yes  Adult    Kapha  individually  neem,turmeric,guggul,jasmine flower  \n",
       "4      Yes  Adult    Pitta  individually  neem,turmeric,guggul,jasmine flower  "
      ]
     },
     "execution_count": 1,
     "metadata": {},
     "output_type": "execute_result"
    }
   ],
   "source": [
    "import pandas as pd\n",
    "\n",
    "AyuData = pd.read_csv(\"/home/Emperor/UKs Machine/DRIVE FLX/SIH/Personalized-Ayurvedic-Medicine-Recommendation-System/DataBase/AyurvedaData.csv\")\n",
    "AyuData.head()"
   ]
  },
  {
   "cell_type": "markdown",
   "id": "e7bb1687",
   "metadata": {},
   "source": [
    "# Assigning Inputs and Targets"
   ]
  },
  {
   "cell_type": "code",
   "execution_count": 2,
   "id": "e4e52acc",
   "metadata": {},
   "outputs": [
    {
     "data": {
      "text/html": [
       "<div>\n",
       "<style scoped>\n",
       "    .dataframe tbody tr th:only-of-type {\n",
       "        vertical-align: middle;\n",
       "    }\n",
       "\n",
       "    .dataframe tbody tr th {\n",
       "        vertical-align: top;\n",
       "    }\n",
       "\n",
       "    .dataframe thead th {\n",
       "        text-align: right;\n",
       "    }\n",
       "</style>\n",
       "<table border=\"1\" class=\"dataframe\">\n",
       "  <thead>\n",
       "    <tr style=\"text-align: right;\">\n",
       "      <th></th>\n",
       "      <th>Disease</th>\n",
       "      <th>gender</th>\n",
       "      <th>diabetic</th>\n",
       "      <th>age</th>\n",
       "      <th>prakruti</th>\n",
       "      <th>remedies</th>\n",
       "    </tr>\n",
       "  </thead>\n",
       "  <tbody>\n",
       "    <tr>\n",
       "      <th>0</th>\n",
       "      <td>psoriasis</td>\n",
       "      <td>M</td>\n",
       "      <td>Yes</td>\n",
       "      <td>Child</td>\n",
       "      <td>Kapha</td>\n",
       "      <td>neem,turmeric,guggul,jasmine flower</td>\n",
       "    </tr>\n",
       "    <tr>\n",
       "      <th>1</th>\n",
       "      <td>psoriasis</td>\n",
       "      <td>M</td>\n",
       "      <td>Yes</td>\n",
       "      <td>Child</td>\n",
       "      <td>Pitta</td>\n",
       "      <td>neem,turmeric,guggul,jasmine flower</td>\n",
       "    </tr>\n",
       "    <tr>\n",
       "      <th>2</th>\n",
       "      <td>psoriasis</td>\n",
       "      <td>M</td>\n",
       "      <td>Yes</td>\n",
       "      <td>Child</td>\n",
       "      <td>Vata</td>\n",
       "      <td>neem,turmeric,guggul,jasmine flower</td>\n",
       "    </tr>\n",
       "    <tr>\n",
       "      <th>3</th>\n",
       "      <td>psoriasis</td>\n",
       "      <td>M</td>\n",
       "      <td>Yes</td>\n",
       "      <td>Adult</td>\n",
       "      <td>Kapha</td>\n",
       "      <td>neem,turmeric,guggul,jasmine flower</td>\n",
       "    </tr>\n",
       "    <tr>\n",
       "      <th>4</th>\n",
       "      <td>psoriasis</td>\n",
       "      <td>M</td>\n",
       "      <td>Yes</td>\n",
       "      <td>Adult</td>\n",
       "      <td>Pitta</td>\n",
       "      <td>neem,turmeric,guggul,jasmine flower</td>\n",
       "    </tr>\n",
       "  </tbody>\n",
       "</table>\n",
       "</div>"
      ],
      "text/plain": [
       "     Disease gender diabetic    age prakruti   \n",
       "0  psoriasis      M      Yes  Child    Kapha  \\\n",
       "1  psoriasis      M      Yes  Child    Pitta   \n",
       "2  psoriasis      M      Yes  Child     Vata   \n",
       "3  psoriasis      M      Yes  Adult    Kapha   \n",
       "4  psoriasis      M      Yes  Adult    Pitta   \n",
       "\n",
       "                              remedies  \n",
       "0  neem,turmeric,guggul,jasmine flower  \n",
       "1  neem,turmeric,guggul,jasmine flower  \n",
       "2  neem,turmeric,guggul,jasmine flower  \n",
       "3  neem,turmeric,guggul,jasmine flower  \n",
       "4  neem,turmeric,guggul,jasmine flower  "
      ]
     },
     "execution_count": 2,
     "metadata": {},
     "output_type": "execute_result"
    }
   ],
   "source": [
    "inputs = AyuData.drop(['symptoms','remedy type'],axis=1)\n",
    "inputs.head()"
   ]
  },
  {
   "cell_type": "code",
   "execution_count": 3,
   "id": "71d808ca",
   "metadata": {},
   "outputs": [
    {
     "data": {
      "text/plain": [
       "0    neem,turmeric,guggul,jasmine flower\n",
       "1    neem,turmeric,guggul,jasmine flower\n",
       "2    neem,turmeric,guggul,jasmine flower\n",
       "3    neem,turmeric,guggul,jasmine flower\n",
       "4    neem,turmeric,guggul,jasmine flower\n",
       "Name: remedies, dtype: object"
      ]
     },
     "execution_count": 3,
     "metadata": {},
     "output_type": "execute_result"
    }
   ],
   "source": [
    "Target_SIH = AyuData['remedies']\n",
    "Target_SIH.head()"
   ]
  },
  {
   "cell_type": "markdown",
   "id": "d883e448",
   "metadata": {},
   "source": [
    "# Label Encoding"
   ]
  },
  {
   "cell_type": "code",
   "execution_count": 4,
   "id": "69ee326f",
   "metadata": {},
   "outputs": [],
   "source": [
    "from sklearn.preprocessing import LabelEncoder\n",
    "\n",
    "Dis_coder = LabelEncoder()\n",
    "Dis_coder.fit( AyuData['Disease'] )\n",
    "inputs['Name'] = Dis_coder.transform(AyuData['Disease'])"
   ]
  },
  {
   "cell_type": "code",
   "execution_count": 5,
   "id": "7f9c1843",
   "metadata": {},
   "outputs": [],
   "source": [
    "Gender_coder = LabelEncoder()\n",
    "Gender_coder.fit( AyuData['gender'] )\n",
    "inputs['Gender'] = Gender_coder.transform(AyuData['gender'])"
   ]
  },
  {
   "cell_type": "code",
   "execution_count": 6,
   "id": "cb46b1ba",
   "metadata": {},
   "outputs": [],
   "source": [
    "Dia_coder = LabelEncoder()\n",
    "Dia_coder.fit( AyuData['diabetic'] )\n",
    "inputs['Dia'] = Dia_coder.transform(AyuData['diabetic'])"
   ]
  },
  {
   "cell_type": "code",
   "execution_count": 7,
   "id": "1f5a1de4",
   "metadata": {},
   "outputs": [],
   "source": [
    "Pra_coder = LabelEncoder()\n",
    "Pra_coder.fit( AyuData['prakruti'] )\n",
    "inputs['Pra'] = Pra_coder.transform(AyuData['prakruti'])"
   ]
  },
  {
   "cell_type": "code",
   "execution_count": 8,
   "id": "ba8ac6e7",
   "metadata": {},
   "outputs": [],
   "source": [
    "Rem_coder = LabelEncoder()\n",
    "Rem_coder.fit( AyuData['remedies'] )\n",
    "inputs['Cure'] = Rem_coder.transform(AyuData['remedies'])"
   ]
  },
  {
   "cell_type": "code",
   "execution_count": 9,
   "id": "893c47aa",
   "metadata": {},
   "outputs": [],
   "source": [
    "age_coder = LabelEncoder()\n",
    "age_coder.fit( AyuData['age'] )\n",
    "inputs['Age'] = age_coder.transform(AyuData['age'])"
   ]
  },
  {
   "cell_type": "code",
   "execution_count": 10,
   "id": "51db266c",
   "metadata": {},
   "outputs": [
    {
     "data": {
      "text/html": [
       "<div>\n",
       "<style scoped>\n",
       "    .dataframe tbody tr th:only-of-type {\n",
       "        vertical-align: middle;\n",
       "    }\n",
       "\n",
       "    .dataframe tbody tr th {\n",
       "        vertical-align: top;\n",
       "    }\n",
       "\n",
       "    .dataframe thead th {\n",
       "        text-align: right;\n",
       "    }\n",
       "</style>\n",
       "<table border=\"1\" class=\"dataframe\">\n",
       "  <thead>\n",
       "    <tr style=\"text-align: right;\">\n",
       "      <th></th>\n",
       "      <th>Disease</th>\n",
       "      <th>gender</th>\n",
       "      <th>diabetic</th>\n",
       "      <th>age</th>\n",
       "      <th>prakruti</th>\n",
       "      <th>remedies</th>\n",
       "      <th>Name</th>\n",
       "      <th>Gender</th>\n",
       "      <th>Dia</th>\n",
       "      <th>Pra</th>\n",
       "      <th>Cure</th>\n",
       "      <th>Age</th>\n",
       "    </tr>\n",
       "  </thead>\n",
       "  <tbody>\n",
       "    <tr>\n",
       "      <th>0</th>\n",
       "      <td>psoriasis</td>\n",
       "      <td>M</td>\n",
       "      <td>Yes</td>\n",
       "      <td>Child</td>\n",
       "      <td>Kapha</td>\n",
       "      <td>neem,turmeric,guggul,jasmine flower</td>\n",
       "      <td>14</td>\n",
       "      <td>1</td>\n",
       "      <td>1</td>\n",
       "      <td>0</td>\n",
       "      <td>50</td>\n",
       "      <td>1</td>\n",
       "    </tr>\n",
       "    <tr>\n",
       "      <th>1</th>\n",
       "      <td>psoriasis</td>\n",
       "      <td>M</td>\n",
       "      <td>Yes</td>\n",
       "      <td>Child</td>\n",
       "      <td>Pitta</td>\n",
       "      <td>neem,turmeric,guggul,jasmine flower</td>\n",
       "      <td>14</td>\n",
       "      <td>1</td>\n",
       "      <td>1</td>\n",
       "      <td>1</td>\n",
       "      <td>50</td>\n",
       "      <td>1</td>\n",
       "    </tr>\n",
       "    <tr>\n",
       "      <th>2</th>\n",
       "      <td>psoriasis</td>\n",
       "      <td>M</td>\n",
       "      <td>Yes</td>\n",
       "      <td>Child</td>\n",
       "      <td>Vata</td>\n",
       "      <td>neem,turmeric,guggul,jasmine flower</td>\n",
       "      <td>14</td>\n",
       "      <td>1</td>\n",
       "      <td>1</td>\n",
       "      <td>2</td>\n",
       "      <td>50</td>\n",
       "      <td>1</td>\n",
       "    </tr>\n",
       "    <tr>\n",
       "      <th>3</th>\n",
       "      <td>psoriasis</td>\n",
       "      <td>M</td>\n",
       "      <td>Yes</td>\n",
       "      <td>Adult</td>\n",
       "      <td>Kapha</td>\n",
       "      <td>neem,turmeric,guggul,jasmine flower</td>\n",
       "      <td>14</td>\n",
       "      <td>1</td>\n",
       "      <td>1</td>\n",
       "      <td>0</td>\n",
       "      <td>50</td>\n",
       "      <td>0</td>\n",
       "    </tr>\n",
       "    <tr>\n",
       "      <th>4</th>\n",
       "      <td>psoriasis</td>\n",
       "      <td>M</td>\n",
       "      <td>Yes</td>\n",
       "      <td>Adult</td>\n",
       "      <td>Pitta</td>\n",
       "      <td>neem,turmeric,guggul,jasmine flower</td>\n",
       "      <td>14</td>\n",
       "      <td>1</td>\n",
       "      <td>1</td>\n",
       "      <td>1</td>\n",
       "      <td>50</td>\n",
       "      <td>0</td>\n",
       "    </tr>\n",
       "  </tbody>\n",
       "</table>\n",
       "</div>"
      ],
      "text/plain": [
       "     Disease gender diabetic    age prakruti   \n",
       "0  psoriasis      M      Yes  Child    Kapha  \\\n",
       "1  psoriasis      M      Yes  Child    Pitta   \n",
       "2  psoriasis      M      Yes  Child     Vata   \n",
       "3  psoriasis      M      Yes  Adult    Kapha   \n",
       "4  psoriasis      M      Yes  Adult    Pitta   \n",
       "\n",
       "                              remedies  Name  Gender  Dia  Pra  Cure  Age  \n",
       "0  neem,turmeric,guggul,jasmine flower    14       1    1    0    50    1  \n",
       "1  neem,turmeric,guggul,jasmine flower    14       1    1    1    50    1  \n",
       "2  neem,turmeric,guggul,jasmine flower    14       1    1    2    50    1  \n",
       "3  neem,turmeric,guggul,jasmine flower    14       1    1    0    50    0  \n",
       "4  neem,turmeric,guggul,jasmine flower    14       1    1    1    50    0  "
      ]
     },
     "execution_count": 10,
     "metadata": {},
     "output_type": "execute_result"
    }
   ],
   "source": [
    "inputs.head()"
   ]
  },
  {
   "cell_type": "code",
   "execution_count": 11,
   "id": "c11e347f",
   "metadata": {},
   "outputs": [],
   "source": [
    "\n",
    "columns_to_drop = ['Disease', 'gender', 'diabetic', 'age', 'prakruti','remedies','Cure']\n",
    "Target_SIH = inputs['Cure']\n",
    "inputs = inputs.drop(columns=columns_to_drop)\n"
   ]
  },
  {
   "cell_type": "code",
   "execution_count": 12,
   "id": "c0381501",
   "metadata": {},
   "outputs": [
    {
     "data": {
      "text/html": [
       "<div>\n",
       "<style scoped>\n",
       "    .dataframe tbody tr th:only-of-type {\n",
       "        vertical-align: middle;\n",
       "    }\n",
       "\n",
       "    .dataframe tbody tr th {\n",
       "        vertical-align: top;\n",
       "    }\n",
       "\n",
       "    .dataframe thead th {\n",
       "        text-align: right;\n",
       "    }\n",
       "</style>\n",
       "<table border=\"1\" class=\"dataframe\">\n",
       "  <thead>\n",
       "    <tr style=\"text-align: right;\">\n",
       "      <th></th>\n",
       "      <th>Name</th>\n",
       "      <th>Gender</th>\n",
       "      <th>Dia</th>\n",
       "      <th>Pra</th>\n",
       "      <th>Age</th>\n",
       "    </tr>\n",
       "  </thead>\n",
       "  <tbody>\n",
       "    <tr>\n",
       "      <th>0</th>\n",
       "      <td>14</td>\n",
       "      <td>1</td>\n",
       "      <td>1</td>\n",
       "      <td>0</td>\n",
       "      <td>1</td>\n",
       "    </tr>\n",
       "    <tr>\n",
       "      <th>1</th>\n",
       "      <td>14</td>\n",
       "      <td>1</td>\n",
       "      <td>1</td>\n",
       "      <td>1</td>\n",
       "      <td>1</td>\n",
       "    </tr>\n",
       "    <tr>\n",
       "      <th>2</th>\n",
       "      <td>14</td>\n",
       "      <td>1</td>\n",
       "      <td>1</td>\n",
       "      <td>2</td>\n",
       "      <td>1</td>\n",
       "    </tr>\n",
       "    <tr>\n",
       "      <th>3</th>\n",
       "      <td>14</td>\n",
       "      <td>1</td>\n",
       "      <td>1</td>\n",
       "      <td>0</td>\n",
       "      <td>0</td>\n",
       "    </tr>\n",
       "    <tr>\n",
       "      <th>4</th>\n",
       "      <td>14</td>\n",
       "      <td>1</td>\n",
       "      <td>1</td>\n",
       "      <td>1</td>\n",
       "      <td>0</td>\n",
       "    </tr>\n",
       "  </tbody>\n",
       "</table>\n",
       "</div>"
      ],
      "text/plain": [
       "   Name  Gender  Dia  Pra  Age\n",
       "0    14       1    1    0    1\n",
       "1    14       1    1    1    1\n",
       "2    14       1    1    2    1\n",
       "3    14       1    1    0    0\n",
       "4    14       1    1    1    0"
      ]
     },
     "execution_count": 12,
     "metadata": {},
     "output_type": "execute_result"
    }
   ],
   "source": [
    "inputs.head()"
   ]
  },
  {
   "cell_type": "code",
   "execution_count": 13,
   "id": "98d6fc1e",
   "metadata": {
    "scrolled": true
   },
   "outputs": [
    {
     "data": {
      "text/plain": [
       "0    50\n",
       "1    50\n",
       "2    50\n",
       "3    50\n",
       "4    50\n",
       "Name: Cure, dtype: int64"
      ]
     },
     "execution_count": 13,
     "metadata": {},
     "output_type": "execute_result"
    }
   ],
   "source": [
    "Target_SIH.head()"
   ]
  },
  {
   "cell_type": "markdown",
   "id": "e850af1b",
   "metadata": {},
   "source": [
    "# Train ML Model"
   ]
  },
  {
   "cell_type": "code",
   "execution_count": 42,
   "id": "9cf1d1c1",
   "metadata": {
    "scrolled": false
   },
   "outputs": [
    {
     "name": "stderr",
     "output_type": "stream",
     "text": [
      "/home/Emperor/.local/lib/python3.11/site-packages/xgboost/core.py:160: UserWarning: [23:32:13] WARNING: /workspace/src/learner.cc:742: \n",
      "Parameters: { \"num_classes\" } are not used.\n",
      "\n",
      "  warnings.warn(smsg, UserWarning)\n"
     ]
    },
    {
     "data": {
      "text/html": [
       "<style>#sk-container-id-3 {color: black;}#sk-container-id-3 pre{padding: 0;}#sk-container-id-3 div.sk-toggleable {background-color: white;}#sk-container-id-3 label.sk-toggleable__label {cursor: pointer;display: block;width: 100%;margin-bottom: 0;padding: 0.3em;box-sizing: border-box;text-align: center;}#sk-container-id-3 label.sk-toggleable__label-arrow:before {content: \"▸\";float: left;margin-right: 0.25em;color: #696969;}#sk-container-id-3 label.sk-toggleable__label-arrow:hover:before {color: black;}#sk-container-id-3 div.sk-estimator:hover label.sk-toggleable__label-arrow:before {color: black;}#sk-container-id-3 div.sk-toggleable__content {max-height: 0;max-width: 0;overflow: hidden;text-align: left;background-color: #f0f8ff;}#sk-container-id-3 div.sk-toggleable__content pre {margin: 0.2em;color: black;border-radius: 0.25em;background-color: #f0f8ff;}#sk-container-id-3 input.sk-toggleable__control:checked~div.sk-toggleable__content {max-height: 200px;max-width: 100%;overflow: auto;}#sk-container-id-3 input.sk-toggleable__control:checked~label.sk-toggleable__label-arrow:before {content: \"▾\";}#sk-container-id-3 div.sk-estimator input.sk-toggleable__control:checked~label.sk-toggleable__label {background-color: #d4ebff;}#sk-container-id-3 div.sk-label input.sk-toggleable__control:checked~label.sk-toggleable__label {background-color: #d4ebff;}#sk-container-id-3 input.sk-hidden--visually {border: 0;clip: rect(1px 1px 1px 1px);clip: rect(1px, 1px, 1px, 1px);height: 1px;margin: -1px;overflow: hidden;padding: 0;position: absolute;width: 1px;}#sk-container-id-3 div.sk-estimator {font-family: monospace;background-color: #f0f8ff;border: 1px dotted black;border-radius: 0.25em;box-sizing: border-box;margin-bottom: 0.5em;}#sk-container-id-3 div.sk-estimator:hover {background-color: #d4ebff;}#sk-container-id-3 div.sk-parallel-item::after {content: \"\";width: 100%;border-bottom: 1px solid gray;flex-grow: 1;}#sk-container-id-3 div.sk-label:hover label.sk-toggleable__label {background-color: #d4ebff;}#sk-container-id-3 div.sk-serial::before {content: \"\";position: absolute;border-left: 1px solid gray;box-sizing: border-box;top: 0;bottom: 0;left: 50%;z-index: 0;}#sk-container-id-3 div.sk-serial {display: flex;flex-direction: column;align-items: center;background-color: white;padding-right: 0.2em;padding-left: 0.2em;position: relative;}#sk-container-id-3 div.sk-item {position: relative;z-index: 1;}#sk-container-id-3 div.sk-parallel {display: flex;align-items: stretch;justify-content: center;background-color: white;position: relative;}#sk-container-id-3 div.sk-item::before, #sk-container-id-3 div.sk-parallel-item::before {content: \"\";position: absolute;border-left: 1px solid gray;box-sizing: border-box;top: 0;bottom: 0;left: 50%;z-index: -1;}#sk-container-id-3 div.sk-parallel-item {display: flex;flex-direction: column;z-index: 1;position: relative;background-color: white;}#sk-container-id-3 div.sk-parallel-item:first-child::after {align-self: flex-end;width: 50%;}#sk-container-id-3 div.sk-parallel-item:last-child::after {align-self: flex-start;width: 50%;}#sk-container-id-3 div.sk-parallel-item:only-child::after {width: 0;}#sk-container-id-3 div.sk-dashed-wrapped {border: 1px dashed gray;margin: 0 0.4em 0.5em 0.4em;box-sizing: border-box;padding-bottom: 0.4em;background-color: white;}#sk-container-id-3 div.sk-label label {font-family: monospace;font-weight: bold;display: inline-block;line-height: 1.2em;}#sk-container-id-3 div.sk-label-container {text-align: center;}#sk-container-id-3 div.sk-container {/* jupyter's `normalize.less` sets `[hidden] { display: none; }` but bootstrap.min.css set `[hidden] { display: none !important; }` so we also need the `!important` here to be able to override the default hidden behavior on the sphinx rendered scikit-learn.org. See: https://github.com/scikit-learn/scikit-learn/issues/21755 */display: inline-block !important;position: relative;}#sk-container-id-3 div.sk-text-repr-fallback {display: none;}</style><div id=\"sk-container-id-3\" class=\"sk-top-container\"><div class=\"sk-text-repr-fallback\"><pre>XGBClassifier(base_score=None, booster=None, callbacks=None,\n",
       "              colsample_bylevel=None, colsample_bynode=None,\n",
       "              colsample_bytree=None, device=None, early_stopping_rounds=None,\n",
       "              enable_categorical=False, eval_metric=None, feature_types=None,\n",
       "              gamma=None, grow_policy=None, importance_type=None,\n",
       "              interaction_constraints=None, learning_rate=0.1, max_bin=None,\n",
       "              max_cat_threshold=None, max_cat_to_onehot=None,\n",
       "              max_delta_step=None, max_depth=None, max_leaves=None,\n",
       "              min_child_weight=None, missing=nan, monotone_constraints=None,\n",
       "              multi_strategy=None, n_estimators=50, n_jobs=None, num_classes=51,\n",
       "              num_parallel_tree=None, ...)</pre><b>In a Jupyter environment, please rerun this cell to show the HTML representation or trust the notebook. <br />On GitHub, the HTML representation is unable to render, please try loading this page with nbviewer.org.</b></div><div class=\"sk-container\" hidden><div class=\"sk-item\"><div class=\"sk-estimator sk-toggleable\"><input class=\"sk-toggleable__control sk-hidden--visually\" id=\"sk-estimator-id-3\" type=\"checkbox\" checked><label for=\"sk-estimator-id-3\" class=\"sk-toggleable__label sk-toggleable__label-arrow\">XGBClassifier</label><div class=\"sk-toggleable__content\"><pre>XGBClassifier(base_score=None, booster=None, callbacks=None,\n",
       "              colsample_bylevel=None, colsample_bynode=None,\n",
       "              colsample_bytree=None, device=None, early_stopping_rounds=None,\n",
       "              enable_categorical=False, eval_metric=None, feature_types=None,\n",
       "              gamma=None, grow_policy=None, importance_type=None,\n",
       "              interaction_constraints=None, learning_rate=0.1, max_bin=None,\n",
       "              max_cat_threshold=None, max_cat_to_onehot=None,\n",
       "              max_delta_step=None, max_depth=None, max_leaves=None,\n",
       "              min_child_weight=None, missing=nan, monotone_constraints=None,\n",
       "              multi_strategy=None, n_estimators=50, n_jobs=None, num_classes=51,\n",
       "              num_parallel_tree=None, ...)</pre></div></div></div></div></div>"
      ],
      "text/plain": [
       "XGBClassifier(base_score=None, booster=None, callbacks=None,\n",
       "              colsample_bylevel=None, colsample_bynode=None,\n",
       "              colsample_bytree=None, device=None, early_stopping_rounds=None,\n",
       "              enable_categorical=False, eval_metric=None, feature_types=None,\n",
       "              gamma=None, grow_policy=None, importance_type=None,\n",
       "              interaction_constraints=None, learning_rate=0.1, max_bin=None,\n",
       "              max_cat_threshold=None, max_cat_to_onehot=None,\n",
       "              max_delta_step=None, max_depth=None, max_leaves=None,\n",
       "              min_child_weight=None, missing=nan, monotone_constraints=None,\n",
       "              multi_strategy=None, n_estimators=50, n_jobs=None, num_classes=51,\n",
       "              num_parallel_tree=None, ...)"
      ]
     },
     "execution_count": 42,
     "metadata": {},
     "output_type": "execute_result"
    }
   ],
   "source": [
    "from xgboost import XGBClassifier\n",
    "\n",
    "Agnivesh = XGBClassifier(\n",
    "    objective=\"multi:softmax\", \n",
    "    num_classes=len(Target_SIH.unique()), \n",
    "    max_depth=None,           \n",
    "    learning_rate=0.1,       \n",
    "    n_estimators=50           \n",
    ")\n",
    "\n",
    "\n",
    "\n",
    "\n",
    "\n",
    "Agnivesh.fit(inputs,Target_SIH)\n"
   ]
  },
  {
   "cell_type": "code",
   "execution_count": 40,
   "id": "3c454730",
   "metadata": {},
   "outputs": [
    {
     "name": "stdout",
     "output_type": "stream",
     "text": [
      "psoriasis\n",
      "arthritis \n",
      "migraine\n",
      "bronchitis\n",
      "insomnia\n",
      "Ovarian cysts\n",
      "acne\n",
      "cholestrol \n",
      "Fever\n",
      "cough\n",
      "constipation\n",
      "hypertension\n",
      "Rheumatoid Arthritis\n",
      "eczema \n",
      "IBS\n"
     ]
    }
   ],
   "source": [
    "for i in AyuData.Disease.unique():\n",
    "    print(i)"
   ]
  },
  {
   "cell_type": "code",
   "execution_count": 43,
   "id": "7efda053",
   "metadata": {},
   "outputs": [
    {
     "data": {
      "text/plain": [
       "0.985981308411215"
      ]
     },
     "execution_count": 43,
     "metadata": {},
     "output_type": "execute_result"
    }
   ],
   "source": [
    "Agnivesh.score(inputs,Target_SIH)"
   ]
  },
  {
   "cell_type": "markdown",
   "id": "2926aa7c",
   "metadata": {},
   "source": [
    "# Testing"
   ]
  },
  {
   "cell_type": "code",
   "execution_count": 44,
   "id": "bbed6fad",
   "metadata": {},
   "outputs": [],
   "source": [
    "\n",
    "#Cutom Input\n",
    "\n",
    "Disease_name = 'cough'\n",
    "user_gender = 'M'\n",
    "user_age = '40'\n",
    "Prakrutii = 'Kapha'\n",
    "Diabetes = 'No'\n",
    "    \n",
    "\n",
    "\n",
    "\n",
    "if(int(user_age)<15):\n",
    "    user_age = 'Child'\n",
    "elif(int(user_age)<45):\n",
    "    user_age = 'Adult'\n",
    "else:\n",
    "    user_age = 'Old'\n",
    "\n",
    "\n",
    "\n",
    "\n",
    "\n",
    "new_data = pd.DataFrame({\n",
    "    'Disease': [Disease_name],\n",
    "    'gender': [user_gender],  \n",
    "    'age': [user_age],\n",
    "    'prakruti': [Prakrutii],\n",
    "    'diabetic' :[Diabetes]\n",
    "    \n",
    "})\n",
    "\n",
    "\n",
    "new_data['Name'] = Dis_coder.transform(new_data['Disease'])\n",
    "new_data['Gender'] = Gender_coder.transform(new_data['gender'])\n",
    "new_data['Dia'] = Dia_coder.transform(new_data['diabetic'])\n",
    "new_data['Pra'] = Pra_coder.transform(new_data['prakruti']) \n",
    "new_data['Age'] = age_coder.transform(new_data['age'])\n",
    "\n",
    "\n",
    "col_to_drop = ['Disease','gender','prakruti','age','diabetic']\n",
    "Test_case = new_data.drop(columns=col_to_drop)"
   ]
  },
  {
   "cell_type": "code",
   "execution_count": 45,
   "id": "bd2b663f",
   "metadata": {},
   "outputs": [],
   "source": [
    "Prediction = Agnivesh.predict(Test_case)"
   ]
  },
  {
   "cell_type": "code",
   "execution_count": 46,
   "id": "dbf09982",
   "metadata": {},
   "outputs": [
    {
     "name": "stdout",
     "output_type": "stream",
     "text": [
      "The treatment of cough  is : Sitopaladi (Cardamom, Cinnamon, Bamboo Manna)\n"
     ]
    }
   ],
   "source": [
    "Upchar = Rem_coder.inverse_transform(Prediction)\n",
    "\n",
    "\n",
    "print('The treatment of',Disease_name,' is :',Upchar[0])"
   ]
  },
  {
   "cell_type": "markdown",
   "id": "f866d3ed",
   "metadata": {},
   "source": [
    "# Feature Weight"
   ]
  },
  {
   "cell_type": "code",
   "execution_count": 47,
   "id": "022aa800",
   "metadata": {},
   "outputs": [
    {
     "data": {
      "image/png": "[encoded data removed]",
      "text/plain": [
       "<Figure size 640x480 with 1 Axes>"
      ]
     },
     "metadata": {},
     "output_type": "display_data"
    }
   ],
   "source": [
    "import matplotlib.pyplot as plt\n",
    "import xgboost\n",
    "\n",
    "xgboost.plot_importance(Agnivesh)\n",
    "plt.show()"
   ]
  },
  {
   "cell_type": "code",
   "execution_count": null,
   "id": "8a36babe",
   "metadata": {},
   "outputs": [],
   "source": []
  },
  {
   "cell_type": "code",
   "execution_count": null,
   "id": "2e8f2eba",
   "metadata": {},
   "outputs": [],
   "source": []
  }
 ],
 "metadata": {
  "kernelspec": {
   "display_name": "Python 3 (ipykernel)",
   "language": "python",
   "name": "python3"
  },
  "language_info": {
   "codemirror_mode": {
    "name": "ipython",
    "version": 3
   },
   "file_extension": ".py",
   "mimetype": "text/x-python",
   "name": "python",
   "nbconvert_exporter": "python",
   "pygments_lexer": "ipython3",
   "version": "3.11.5"
  }
 },
 "nbformat": 4,
 "nbformat_minor": 5
}
